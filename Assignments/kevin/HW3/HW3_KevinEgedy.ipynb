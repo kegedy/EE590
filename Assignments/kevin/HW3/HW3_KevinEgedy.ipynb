{
 "cells": [
  {
   "cell_type": "markdown",
   "metadata": {},
   "source": [
    "# EE P 590: Deep Learning for Embedded Real-time Intelligence \n",
    "\n",
    "# Kevin Egedy\n",
    "\n",
    "# Homework 3  "
   ]
  },
  {
   "cell_type": "code",
   "execution_count": 1,
   "metadata": {},
   "outputs": [],
   "source": [
    "import torch \n",
    "from eep590_utils import * "
   ]
  },
  {
   "cell_type": "code",
   "execution_count": 2,
   "metadata": {},
   "outputs": [],
   "source": [
    "import matplotlib\n",
    "import matplotlib.pyplot as plt\n",
    "import numpy as np\n",
    "%matplotlib inline\n",
    "from IPython.core.interactiveshell import InteractiveShell\n",
    "InteractiveShell.ast_node_interactivity = \"all\""
   ]
  },
  {
   "cell_type": "markdown",
   "metadata": {},
   "source": [
    "# 0. Warm-up (40 points) \n",
    "\n",
    "###  Answer the following in your own words (read and understand the concepts, do not copy answers from the internet): "
   ]
  },
  {
   "cell_type": "markdown",
   "metadata": {},
   "source": [
    "**(a.) Explain why the depth-wise separable convolutions can achieve reasonable results while using fewer parameters compared to traditional convolutions. Also compare the representation power of a depth-wise separable convolution to that of a standard convolution if both had the same number of parameters.**"
   ]
  },
  {
   "cell_type": "markdown",
   "metadata": {},
   "source": [
    "#TODO: DONE \\\n",
    "Ref: https://towardsdatascience.com/a-basic-introduction-to-separable-convolutions-b99ec3102728\n",
    "\n",
    "Depth-wise separable achieves the same transformation by taking the convolution over slices of the data and then performing a point-wise convolution. The end result is similar but uses far fewer parameters due to serparating the convolution into two steps. Depth-wise separable convolutions have huge savings on the number of computations (>10x savings) because the computations during the depth-wise convolution are much smaller than the computations in normal convolution."
   ]
  },
  {
   "cell_type": "markdown",
   "metadata": {},
   "source": [
    "**(b.) Comment on the quantization bit-widths (for a deep learning model) required to achieve good performance for speech/audio inputs and compare it to that for image inputs. Which type of input requires higher number of bits to achieve reasonable performance, and why?** "
   ]
  },
  {
   "cell_type": "markdown",
   "metadata": {},
   "source": [
    "#TODO: DONE \\\n",
    "Ref: https://www.qualcomm.com/news/onq/2019/03/heres-why-quantization-matters-ai \\\n",
    "Ref: https://www.microsoft.com/en-us/research/wp-content/uploads/2017/11/KoFrommPhiliposeTashevZarar_NIPS2017.pdf \\\n",
    "Ref: https://towardsdatascience.com/audio-deep-learning-made-simple-part-2-why-mel-spectrograms-perform-better-aad889a93505\n",
    "\n",
    "\n",
    "Relatively good performance is achieved with as low as 8 bits (and lower) for image inputs and 4 bits for audio inputs. In general, image inputs require larger number of bits compared to speech/audio. The extracted features/targets for image datasets require more information (larger bit-widths) than speech/audio. In addition, human comprehension of different frequencies is very limitied."
   ]
  },
  {
   "cell_type": "markdown",
   "metadata": {},
   "source": [
    "**(c.) From an optimization perspective, why is it challenging to train a deep learning model with quantized weights and activations?** "
   ]
  },
  {
   "cell_type": "markdown",
   "metadata": {},
   "source": [
    "#TODO: DONE \n",
    "\n",
    "Ref: https://proceedings.neurips.cc/paper/2017/file/1c303b0eed3133200cf715285011b4e4-Paper.pdf\n",
    "\n",
    "Quantized weights and activations make it difficult for models to converge due to limiting training improvement. "
   ]
  },
  {
   "cell_type": "markdown",
   "metadata": {},
   "source": [
    "**(d.) What is the impact of low-rank projections on the generalization ability of a deep learning model? Explain your reasoning.**"
   ]
  },
  {
   "cell_type": "markdown",
   "metadata": {},
   "source": [
    "#TODO: DONE\n",
    "\n",
    "Low-rank projections prunes the weights of the models so that it doesn't overfit to the dataset. Also it can dramatically reduce the number of weights/connections (>80% reduction)."
   ]
  },
  {
   "cell_type": "markdown",
   "metadata": {},
   "source": [
    "**(e.) What is the motive to deploy deep learning models on embedded/IoT devices? List the problems associated with sending the data from the IoT device to the cloud through wifi and performing the inference on the cloud**"
   ]
  },
  {
   "cell_type": "markdown",
   "metadata": {},
   "source": [
    "#TODO: DONE \\\n",
    "Ref: https://www.wevolver.com/article/the-embedded-machine-learning-revolution-the-basics-you-need-to-know\n",
    "\n",
    "Primary reasons for deploying models to embedded devices are lower power consumption, low latency, network efficiency, and strong privacy. Sending data to the cloud is very costly even with quantized inputs. Depending on the application, the latency of cloud solutions is too large to use in real-time.  "
   ]
  },
  {
   "cell_type": "markdown",
   "metadata": {},
   "source": [
    "**(f.) In one or more sentences, and using sketches as appropriate, explain: SqueezeNet and MobileNet. What are the defining characteristic of these architectures? How do they improve upon their predecessors in terms of latency and memory consumption?**"
   ]
  },
  {
   "cell_type": "markdown",
   "metadata": {},
   "source": [
    "<img src=\"img/SqueezeNet.png\" width=\"300\"/>\n",
    "\n",
    "<img src=\"img/MobileNet.png\" width=\"300\"/>"
   ]
  },
  {
   "cell_type": "markdown",
   "metadata": {},
   "source": [
    "#TODO: DONE \\\n",
    "Ref: https://aiinpractice.com/squeezenet-mobilenet/\n",
    "\n",
    "SqueezeNet achieves the same accuracy as AlexNet but has 50x less weights. SqueezeNet is implemented by replacing 3x3 filters with 1x1 filters, decreasing the number of input channels to 3x3 filters, and downsampling late in the network so that convolution layers have large activation maps.\n",
    "\n",
    "MobileNet can outperform SqueezeNet in most cases by having a comparable model size. MobileNet is implemented using depthwise separable convolutions with pointwise convolution and can greatly improve prediction speed by reducing the image size."
   ]
  },
  {
   "cell_type": "markdown",
   "metadata": {},
   "source": [
    "**(f.) Compare and contrast the different pruning techniques discussed in the lecture. Which technique would produce the  most optimal results? Which technique is the most practical? Explain your reasoning.**"
   ]
  },
  {
   "cell_type": "markdown",
   "metadata": {},
   "source": [
    "#TODO: DONE\n",
    "\n",
    "Iterative pruning & retraining, pruning with rehabilitation, and hessian-based pruning are the techniques discussed in lecture.\n",
    "\n",
    "Iterative pruning and retraining is effective but takes multiple iterations since pruned connections have no chance to come back in this method. \n",
    "\n",
    "Hessian pruning provides the most optimal results. The weights are updated in order to minimize the change of the objective function, however it requires a lot more computations. \n",
    "\n",
    "Pruning with rehabilitation is updated based on the pruning threshold and is the most practical."
   ]
  },
  {
   "cell_type": "markdown",
   "metadata": {},
   "source": [
    "**(g.) Explain how Scree plots are useful in resource allocation and determining each layer's target rank.**"
   ]
  },
  {
   "cell_type": "markdown",
   "metadata": {},
   "source": [
    "#TODO: DONE \\\n",
    "Ref: https://en.wikipedia.org/wiki/Scree_plot\n",
    "\n",
    "A scree plot plots the eigenvalues / principal components which are used for understanding the variability of the dataset. A layer's target rank is determined by the elbow of the graph, such that all the proceeding eigenvalues are significant."
   ]
  },
  {
   "cell_type": "markdown",
   "metadata": {},
   "source": [
    "**(h.) Compare and contrast the different quantization techniques discussed in the lectures, and comment on the strengths and limitations of each technique.**"
   ]
  },
  {
   "cell_type": "markdown",
   "metadata": {},
   "source": [
    "#TODO: DONE \\\n",
    "Ref: https://medium.com/@joel_34050/quantization-in-deep-learning-478417eab72b\n",
    "\n",
    "Full quantization fixed point, full quantization code book, quantization binary connect, and quantization binarized neural networks are the techniques discussed in lecture.\n",
    "\n",
    "Binary connect maps float-valued parameters to +1 or -1. This method is ideal for it's simplistic implementation.\n",
    "\n",
    "BNN achieves higher accuracy than binary connect. It quantizes the activations to binary values -1 and +1 by taking the sign of the full-precision activations."
   ]
  },
  {
   "cell_type": "markdown",
   "metadata": {},
   "source": [
    "# 1. Low-rank approximation (30 points) \n",
    "\n",
    "In this section we will use low-rank approximations of the dense layers to reduce the memory consumption of a simple  LeNet architecture during inference. To make it simpler, we have divided this into subtasks:- \n",
    "\n",
    "- **(8 points) Subtask 1: Train a standard LeNet architercture on the Fashion MNIST dataset. Use the `load_data_fashion_mnist` function provided in the `eep590_utils.py` file for downloading and loading the dataset. The model architecture is defined below for your convenience, but you are free to use any other implementations of the same architecture. Use a set of reasonable hyper-parameters to obtain an accuracy of atleast 75 percentage on the training and testing sets.** "
   ]
  },
  {
   "cell_type": "code",
   "execution_count": 3,
   "metadata": {},
   "outputs": [],
   "source": [
    "class LeNet(nn.Module):\n",
    "    def __init__(self):\n",
    "        super(LeNet, self).__init__()\n",
    "        # 1 input image channel, 6 output channels, 3x3 square conv kernel\n",
    "        self.conv1 = nn.Conv2d(1, 6, 3)\n",
    "        self.conv2 = nn.Conv2d(6, 16, 3)\n",
    "        self.fc1 = nn.Linear(16 * 5 * 5, 120)  # 5x5 image dimension\n",
    "        self.fc2 = nn.Linear(120, 84)\n",
    "        self.fc3 = nn.Linear(84, 10)\n",
    "\n",
    "    def forward(self, x):\n",
    "        x = F.max_pool2d(F.relu(self.conv1(x)), (2, 2))\n",
    "        x = F.max_pool2d(F.relu(self.conv2(x)), 2)\n",
    "        x = x.view(-1, int(x.nelement() / x.shape[0]))\n",
    "        x = F.relu(self.fc1(x))\n",
    "        x = F.relu(self.fc2(x))\n",
    "        x = self.fc3(x)\n",
    "        return x"
   ]
  },
  {
   "cell_type": "code",
   "execution_count": 4,
   "metadata": {},
   "outputs": [],
   "source": [
    "#TODO: DONE\n",
    "\n",
    "# def load_data_fashion_mnist(batch_size, resize=None):\n",
    "#     \"\"\"Download the Fashion-MNIST dataset and then load it into memory.\"\"\"\n",
    "\n",
    "import torch.optim as optim\n",
    "\n",
    "params = {\n",
    "  \"learning_rate\": 1e-2,\n",
    "  \"batch_size\": 64,\n",
    "  \"num_epochs\": 4\n",
    "}\n",
    "\n",
    "# Get Fashion MNIST datasets\n",
    "train, test = load_data_fashion_mnist(params['batch_size'])\n",
    "\n",
    "# Define Model\n",
    "model = LeNet()\n",
    "\n",
    "# Define Optimizer\n",
    "optimizer = optim.Adam(\n",
    "    model.parameters(), \n",
    "    lr=params['learning_rate']\n",
    ")\n",
    "\n",
    "# Define Loss Function\n",
    "loss_fn = nn.CrossEntropyLoss()\n",
    "\n",
    "# Train dataset\n",
    "def train_model(model, optimizer, loss_fn, params):\n",
    "    '''\n",
    "    Trains model with given optimizer and loss function.\n",
    "    Returns accuracy in each epoch\n",
    "    '''\n",
    "    for epoch in range(params['num_epochs']):\n",
    "        num_labels = 0\n",
    "        num_correct = 0\n",
    "\n",
    "        # Features and Labels\n",
    "        for X, y in train:\n",
    "\n",
    "            # Reset gradient\n",
    "            optimizer.zero_grad()\n",
    "\n",
    "            # Forward pass\n",
    "            outputs = model(X)\n",
    "\n",
    "            # Loss\n",
    "            loss = loss_fn(outputs, y)\n",
    "\n",
    "            # Backward pass\n",
    "            loss.backward()\n",
    "\n",
    "            # Update Optimizer\n",
    "            optimizer.step()\n",
    "\n",
    "            # Calculate Accuracy\n",
    "            outputs = outputs.detach().numpy()\n",
    "            outputs = np.argmax(outputs, axis=1)\n",
    "            y = y.detach().numpy()\n",
    "            num_correct += np.sum(outputs == y)\n",
    "            num_labels += y.shape[0]\n",
    "\n",
    "        # Print\n",
    "        acc = num_correct / num_labels\n",
    "        print(f'Epoch {epoch}:   Accuracy: {round(100*num_correct/num_labels,2)}%')"
   ]
  },
  {
   "cell_type": "code",
   "execution_count": 5,
   "metadata": {},
   "outputs": [
    {
     "name": "stdout",
     "output_type": "stream",
     "text": [
      "Epoch 0:   Accuracy: 79.77%\n",
      "Epoch 1:   Accuracy: 85.75%\n",
      "Epoch 2:   Accuracy: 86.77%\n",
      "Epoch 3:   Accuracy: 87.46%\n"
     ]
    }
   ],
   "source": [
    "train_model(model, optimizer, loss_fn, params)"
   ]
  },
  {
   "cell_type": "markdown",
   "metadata": {},
   "source": [
    "- **(10 points) Subtask 2: Project the `self.fc1` and `self.fc2` weights to subspaces with ranks `r1` and `r2`.** "
   ]
  },
  {
   "cell_type": "code",
   "execution_count": 6,
   "metadata": {},
   "outputs": [],
   "source": [
    "# Save Model Weights\n",
    "fc1_SAVE = model.fc1.weight.detach()\n",
    "fc2_SAVE = model.fc2.weight.detach()"
   ]
  },
  {
   "cell_type": "code",
   "execution_count": 24,
   "metadata": {},
   "outputs": [
    {
     "name": "stdout",
     "output_type": "stream",
     "text": [
      "Original fc1 size: 48000 doubles\n",
      "New fc1 size: 10400 doubles\n",
      "Improvement: 4.62\n"
     ]
    }
   ],
   "source": [
    "#TODO: DONE\n",
    "# https://pytorch.org/docs/stable/generated/torch.linalg.svd.html\n",
    "\n",
    "def Weight2Subspace(weight, rank):\n",
    "    # Find SVD Representation\n",
    "    U, S, VT = torch.linalg.svd(weight)\n",
    " \n",
    "    # New Subspace (with reduced weights)\n",
    "    F1 = U[:, :rank] @ torch.diag(S[:rank])\n",
    "    F2 = torch.diag(S[:rank]) @ VT[:rank, :]\n",
    "    \n",
    "    # Recombined\n",
    "    W = torch.matmul(F1,F2)\n",
    "    \n",
    "    return W, F1, F2\n",
    "\n",
    "W1, F11, F12 = Weight2Subspace(fc1_SAVE, 20)\n",
    "W2, F21, F22 = Weight2Subspace(fc2_SAVE, 20)\n",
    "prev = fc1_SAVE.shape[0]*fc1_SAVE.shape[1]\n",
    "new = F11.shape[0]*F11.shape[1] + F12.shape[0]*F12.shape[1]\n",
    "print(f'Original fc1 size: {prev} doubles')\n",
    "print(f'New fc1 size: {new} doubles')\n",
    "print(f'Improvement: {round(prev/new,2)}')"
   ]
  },
  {
   "cell_type": "markdown",
   "metadata": {},
   "source": [
    "- **(4 points) Plot a graph with the X-axis representing the %improvement in memory usage of the architure, and on Y-axis the test accuracy of the model. (Hint: play with `r1` and `r2`, and run the inference multiple times. You need not re-train the model)** "
   ]
  },
  {
   "cell_type": "code",
   "execution_count": 8,
   "metadata": {},
   "outputs": [],
   "source": [
    "model.fc1.weight.data = fc1_SAVE\n",
    "model.fc2.weight.data = fc2_SAVE"
   ]
  },
  {
   "cell_type": "code",
   "execution_count": 9,
   "metadata": {},
   "outputs": [
    {
     "name": "stdout",
     "output_type": "stream",
     "text": [
      "r1 = 10, r2 = 10, impr = 8.02, acc = 0.7\n",
      "r1 = 10, r2 = 20, impr = 6.26, acc = 0.77\n",
      "r1 = 10, r2 = 30, impr = 5.13, acc = 0.77\n",
      "r1 = 10, r2 = 40, impr = 4.35, acc = 0.77\n",
      "r1 = 10, r2 = 50, impr = 3.77, acc = 0.77\n",
      "r1 = 20, r2 = 10, impr = 4.67, acc = 0.72\n",
      "r1 = 20, r2 = 20, impr = 4.01, acc = 0.79\n",
      "r1 = 20, r2 = 30, impr = 3.52, acc = 0.79\n",
      "r1 = 20, r2 = 40, impr = 3.13, acc = 0.79\n",
      "r1 = 20, r2 = 50, impr = 2.82, acc = 0.79\n",
      "r1 = 30, r2 = 10, impr = 3.29, acc = 0.72\n",
      "r1 = 30, r2 = 20, impr = 2.95, acc = 0.79\n",
      "r1 = 30, r2 = 30, impr = 2.67, acc = 0.8\n",
      "r1 = 30, r2 = 40, impr = 2.44, acc = 0.8\n",
      "r1 = 30, r2 = 50, impr = 2.25, acc = 0.8\n",
      "r1 = 40, r2 = 10, impr = 2.54, acc = 0.72\n",
      "r1 = 40, r2 = 20, impr = 2.33, acc = 0.79\n",
      "r1 = 40, r2 = 30, impr = 2.16, acc = 0.8\n",
      "r1 = 40, r2 = 40, impr = 2.01, acc = 0.8\n",
      "r1 = 40, r2 = 50, impr = 1.87, acc = 0.8\n",
      "r1 = 50, r2 = 10, impr = 2.07, acc = 0.72\n",
      "r1 = 50, r2 = 20, impr = 1.93, acc = 0.79\n",
      "r1 = 50, r2 = 30, impr = 1.81, acc = 0.8\n",
      "r1 = 50, r2 = 40, impr = 1.7, acc = 0.8\n",
      "r1 = 50, r2 = 50, impr = 1.6, acc = 0.8\n"
     ]
    },
    {
     "data": {
      "image/png": "[encoded data removed]",
      "text/plain": [
       "<Figure size 576x576 with 1 Axes>"
      ]
     },
     "metadata": {
      "needs_background": "light"
     },
     "output_type": "display_data"
    }
   ],
   "source": [
    "#TODO: DONE\n",
    "fig, ax = plt.subplots(1,figsize=(8,8))\n",
    "\n",
    "# Original Weight Size \n",
    "ws1 = fc1_SAVE.shape[0]*fc1_SAVE.shape[1]\n",
    "ws2 = fc2_SAVE.shape[0]*fc2_SAVE.shape[1]\n",
    "weights = ws1 + ws2\n",
    "\n",
    "# Define Ranks\n",
    "r1_arr = [10,20,30,40,50]\n",
    "r2_arr = [10,20,30,40,50]\n",
    "\n",
    "# Colors\n",
    "colors = [\n",
    "'tab:blue',\n",
    "'tab:orange',\n",
    "'tab:green',\n",
    "'tab:red',\n",
    "'tab:purple'\n",
    "]\n",
    "\n",
    "for i, r1 in enumerate(r1_arr):\n",
    "    for r2 in r2_arr:\n",
    "        num_labels = 0\n",
    "        num_correct = 0\n",
    "        acc = 0\n",
    "\n",
    "        # Calculate Improvement\n",
    "        W1, F11, F12 = Weight2Subspace(fc1_SAVE,r1)\n",
    "        W2, F21, F22 = Weight2Subspace(fc2_SAVE,r2)\n",
    "        new_ws1 = F11.shape[0]*F11.shape[1] + F12.shape[0]*F12.shape[1]\n",
    "        new_ws2 = F21.shape[0]*F21.shape[1] + F22.shape[0]*F22.shape[1]\n",
    "        new_weights = new_ws1 + new_ws2\n",
    "        improvement = weights/new_weights\n",
    "\n",
    "        # assign new weights\n",
    "        model.fc1.weight.data = W1.data\n",
    "        model.fc2.weight.data = W2.data\n",
    "\n",
    "        for X, y in train:\n",
    "            # Calculate Accuracy\n",
    "            outputs = model(X)\n",
    "            outputs = outputs.detach().numpy()\n",
    "            outputs = np.argmax(outputs, axis=1)\n",
    "            y = y.detach().numpy()\n",
    "            num_correct += np.sum(outputs == y)\n",
    "            num_labels += y.shape[0]\n",
    "\n",
    "        acc = num_correct / num_labels\n",
    "        print(f'r1 = {r1}, r2 = {r2}, impr = {round(improvement,2)}, acc = {round(acc,2)}')\n",
    "        ax.scatter(improvement, acc, color=colors[i], label=f'r1 = {r1}, r2 = {r2}')\n",
    "\n",
    "ax.set_title('Accuracy vs. Memory Usage')\n",
    "ax.set_ylabel('Accuracy')\n",
    "ax.set_xlabel('Improvement in Memory Multiplier (Prev/New)')\n",
    "ax.grid(True)\n",
    "ax.legend()\n",
    "plt.show();"
   ]
  },
  {
   "cell_type": "markdown",
   "metadata": {},
   "source": [
    "- **(4 points) Plot a graph of the %improvement in memory usage vs. $\\beta$, which is the percentage of total variation explained in the low-rank subspace. (Hint: Refer to slide 42 of the lecture)**"
   ]
  },
  {
   "cell_type": "code",
   "execution_count": 10,
   "metadata": {},
   "outputs": [
    {
     "name": "stdout",
     "output_type": "stream",
     "text": [
      "r1 = 10, r2 = 10, impr = 8.02, beta = 0.34\n",
      "r1 = 10, r2 = 20, impr = 6.26, beta = 0.39\n",
      "r1 = 10, r2 = 30, impr = 5.13, beta = 0.42\n",
      "r1 = 10, r2 = 40, impr = 4.35, beta = 0.45\n",
      "r1 = 10, r2 = 50, impr = 3.77, beta = 0.46\n",
      "r1 = 20, r2 = 10, impr = 4.67, beta = 0.48\n",
      "r1 = 20, r2 = 20, impr = 4.01, beta = 0.53\n",
      "r1 = 20, r2 = 30, impr = 3.52, beta = 0.56\n",
      "r1 = 20, r2 = 40, impr = 3.13, beta = 0.58\n",
      "r1 = 20, r2 = 50, impr = 2.82, beta = 0.6\n",
      "r1 = 30, r2 = 10, impr = 3.29, beta = 0.58\n",
      "r1 = 30, r2 = 20, impr = 2.95, beta = 0.63\n",
      "r1 = 30, r2 = 30, impr = 2.67, beta = 0.66\n",
      "r1 = 30, r2 = 40, impr = 2.44, beta = 0.69\n",
      "r1 = 30, r2 = 50, impr = 2.25, beta = 0.7\n",
      "r1 = 40, r2 = 10, impr = 2.54, beta = 0.66\n",
      "r1 = 40, r2 = 20, impr = 2.33, beta = 0.71\n",
      "r1 = 40, r2 = 30, impr = 2.16, beta = 0.74\n",
      "r1 = 40, r2 = 40, impr = 2.01, beta = 0.77\n",
      "r1 = 40, r2 = 50, impr = 1.87, beta = 0.78\n",
      "r1 = 50, r2 = 10, impr = 2.07, beta = 0.73\n",
      "r1 = 50, r2 = 20, impr = 1.93, beta = 0.78\n",
      "r1 = 50, r2 = 30, impr = 1.81, beta = 0.81\n",
      "r1 = 50, r2 = 40, impr = 1.7, beta = 0.83\n",
      "r1 = 50, r2 = 50, impr = 1.6, beta = 0.85\n"
     ]
    },
    {
     "data": {
      "image/png": "[encoded data removed]",
      "text/plain": [
       "<Figure size 576x576 with 1 Axes>"
      ]
     },
     "metadata": {
      "needs_background": "light"
     },
     "output_type": "display_data"
    }
   ],
   "source": [
    "#TODO: DONE\n",
    "fig, ax = plt.subplots(1,figsize=(8,8))\n",
    "\n",
    "# Define Ranks\n",
    "r1_arr = [10,20,30,40,50]\n",
    "r2_arr = [10,20,30,40,50]\n",
    "\n",
    "# Original Weight Size \n",
    "ws1 = fc1_SAVE.shape[0]*fc1_SAVE.shape[1]\n",
    "ws2 = fc2_SAVE.shape[0]*fc2_SAVE.shape[1]\n",
    "weights = ws1 + ws2\n",
    "\n",
    "# Compute Singular Values\n",
    "_, S1, _ = torch.linalg.svd(fc1_SAVE)\n",
    "_, S2, _ = torch.linalg.svd(fc2_SAVE)\n",
    "vals1, _ = torch.max(torch.diag(S1), dim=1)\n",
    "vals2, _ = torch.max(torch.diag(S2), dim=1)\n",
    "\n",
    "# Colors\n",
    "colors = [\n",
    "'tab:blue',\n",
    "'tab:orange',\n",
    "'tab:green',\n",
    "'tab:red',\n",
    "'tab:purple'\n",
    "]\n",
    "\n",
    "for i, r1 in enumerate(r1_arr):\n",
    "    for r2 in r2_arr:\n",
    "        num_labels = 0\n",
    "        num_correct = 0\n",
    "        acc = 0\n",
    "\n",
    "        # Calculate Improvement\n",
    "        W1, F11, F12 = Weight2Subspace(fc1_SAVE,r1)\n",
    "        W2, F21, F22 = Weight2Subspace(fc2_SAVE,r2)\n",
    "        new_ws1 = F11.shape[0]*F11.shape[1] + F12.shape[0]*F12.shape[1]\n",
    "        new_ws2 = F21.shape[0]*F21.shape[1] + F22.shape[0]*F22.shape[1]\n",
    "        new_weights = new_ws1 + new_ws2\n",
    "        improvement = weights/new_weights     \n",
    "            \n",
    "        # Calculate Beta\n",
    "        num = torch.sum(vals1[:r1])+torch.sum(vals2[:r2])\n",
    "        den = torch.sum(vals1)+torch.sum(vals2)\n",
    "        beta = torch.div(num,den)\n",
    "        beta = beta.detach().numpy().item(0)\n",
    "        \n",
    "        # Plot\n",
    "        print(f'r1 = {r1}, r2 = {r2}, impr = {round(improvement,2)}, beta = {round(beta,2)}')\n",
    "        ax.scatter(improvement, beta, color=colors[i], label=f'r1 = {r1}, r2 = {r2}')\n",
    "\n",
    "ax.set_title(r'$\\beta$ (Explained Variance) vs. Memory Usage')\n",
    "ax.set_ylabel(r'$\\beta$')\n",
    "ax.set_xlabel('Improvement in Memory Multiplier (Prev/New)')\n",
    "ax.grid(True)\n",
    "ax.legend()\n",
    "plt.show();"
   ]
  },
  {
   "cell_type": "markdown",
   "metadata": {},
   "source": [
    "- **(4 points) Plot a graph of test accuracy vs. $\\beta$.** "
   ]
  },
  {
   "cell_type": "code",
   "execution_count": 11,
   "metadata": {},
   "outputs": [
    {
     "name": "stdout",
     "output_type": "stream",
     "text": [
      "r1 = 10, r2 = 10, beta = 0.34, acc = 0.7\n",
      "r1 = 10, r2 = 20, beta = 0.39, acc = 0.77\n",
      "r1 = 10, r2 = 30, beta = 0.42, acc = 0.77\n",
      "r1 = 10, r2 = 40, beta = 0.45, acc = 0.77\n",
      "r1 = 10, r2 = 50, beta = 0.46, acc = 0.77\n",
      "r1 = 20, r2 = 10, beta = 0.48, acc = 0.72\n",
      "r1 = 20, r2 = 20, beta = 0.53, acc = 0.79\n",
      "r1 = 20, r2 = 30, beta = 0.56, acc = 0.79\n",
      "r1 = 20, r2 = 40, beta = 0.58, acc = 0.79\n",
      "r1 = 20, r2 = 50, beta = 0.6, acc = 0.79\n",
      "r1 = 30, r2 = 10, beta = 0.58, acc = 0.72\n",
      "r1 = 30, r2 = 20, beta = 0.63, acc = 0.79\n",
      "r1 = 30, r2 = 30, beta = 0.66, acc = 0.8\n",
      "r1 = 30, r2 = 40, beta = 0.69, acc = 0.8\n",
      "r1 = 30, r2 = 50, beta = 0.7, acc = 0.8\n",
      "r1 = 40, r2 = 10, beta = 0.66, acc = 0.72\n",
      "r1 = 40, r2 = 20, beta = 0.71, acc = 0.79\n",
      "r1 = 40, r2 = 30, beta = 0.74, acc = 0.8\n",
      "r1 = 40, r2 = 40, beta = 0.77, acc = 0.8\n",
      "r1 = 40, r2 = 50, beta = 0.78, acc = 0.8\n",
      "r1 = 50, r2 = 10, beta = 0.73, acc = 0.72\n",
      "r1 = 50, r2 = 20, beta = 0.78, acc = 0.79\n",
      "r1 = 50, r2 = 30, beta = 0.81, acc = 0.8\n",
      "r1 = 50, r2 = 40, beta = 0.83, acc = 0.8\n",
      "r1 = 50, r2 = 50, beta = 0.85, acc = 0.8\n"
     ]
    },
    {
     "data": {
      "image/png": "[encoded data removed]",
      "text/plain": [
       "<Figure size 576x576 with 1 Axes>"
      ]
     },
     "metadata": {
      "needs_background": "light"
     },
     "output_type": "display_data"
    }
   ],
   "source": [
    "#TODO: DONE\n",
    "fig, ax = plt.subplots(1,figsize=(8,8))\n",
    "\n",
    "# Define Ranks\n",
    "r1_arr = [10,20,30,40,50]\n",
    "r2_arr = [10,20,30,40,50]\n",
    "\n",
    "# Compute Singular Values\n",
    "_, S1, _ = torch.linalg.svd(fc1_SAVE)\n",
    "_, S2, _ = torch.linalg.svd(fc2_SAVE)\n",
    "vals1, _ = torch.max(torch.diag(S1), dim=1)\n",
    "vals2, _ = torch.max(torch.diag(S2), dim=1)\n",
    "\n",
    "# Colors\n",
    "colors = [\n",
    "'tab:blue',\n",
    "'tab:orange',\n",
    "'tab:green',\n",
    "'tab:red',\n",
    "'tab:purple'\n",
    "]\n",
    "\n",
    "for i, r1 in enumerate(r1_arr):\n",
    "    for r2 in r2_arr:\n",
    "        num_labels = 0\n",
    "        num_correct = 0\n",
    "        acc = 0\n",
    "\n",
    "        # Define Subspace\n",
    "        W1, F11, F12 = Weight2Subspace(fc1_SAVE,r1)\n",
    "        W2, F21, F22 = Weight2Subspace(fc2_SAVE,r2)\n",
    "\n",
    "        # assign new weights\n",
    "        model.fc1.weight.data = W1.data\n",
    "        model.fc2.weight.data = W2.data\n",
    "\n",
    "        for X, y in train:\n",
    "            # Calculate Accuracy\n",
    "            outputs = model(X)\n",
    "            outputs = outputs.detach().numpy()\n",
    "            outputs = np.argmax(outputs, axis=1)\n",
    "            y = y.detach().numpy()\n",
    "            num_correct += np.sum(outputs == y)\n",
    "            num_labels += y.shape[0]\n",
    "            \n",
    "        # Calculate Beta\n",
    "        num = torch.sum(vals1[:r1])+torch.sum(vals2[:r2])\n",
    "        den = torch.sum(vals1)+torch.sum(vals2)\n",
    "        beta = torch.div(num,den)\n",
    "        beta = beta.detach().numpy().item(0)\n",
    "\n",
    "        acc = num_correct / num_labels\n",
    "        print(f'r1 = {r1}, r2 = {r2}, beta = {round(beta,2)}, acc = {round(acc,2)}')\n",
    "        ax.scatter(beta, acc, color=colors[i], label=f'r1 = {r1}, r2 = {r2}')\n",
    "\n",
    "ax.set_title(r'$\\beta$ (Explained Variance) vs. Accuracy')\n",
    "ax.set_xlabel(r'$\\beta$ (Explained Variance)')\n",
    "ax.set_ylabel('Accuracy')\n",
    "ax.grid(True)\n",
    "ax.legend()\n",
    "plt.show();"
   ]
  },
  {
   "cell_type": "markdown",
   "metadata": {},
   "source": [
    "# 2. Sparsification (30 points) \n",
    "\n",
    "In this section we will attempt to sparsify the model trained in subtask 1 of previous section. "
   ]
  },
  {
   "cell_type": "markdown",
   "metadata": {},
   "source": [
    "- **Subtask 1: Plot a histogram of the distribution of all the weights in the model.** "
   ]
  },
  {
   "cell_type": "code",
   "execution_count": 12,
   "metadata": {},
   "outputs": [],
   "source": [
    "model.fc1.weight.data = fc1_SAVE\n",
    "model.fc2.weight.data = fc2_SAVE"
   ]
  },
  {
   "cell_type": "code",
   "execution_count": 13,
   "metadata": {},
   "outputs": [
    {
     "data": {
      "image/png": "[encoded data removed]",
      "text/plain": [
       "<Figure size 576x1440 with 5 Axes>"
      ]
     },
     "metadata": {
      "needs_background": "light"
     },
     "output_type": "display_data"
    }
   ],
   "source": [
    "#TODO: DONE\n",
    "fig, ax = plt.subplots(5,1,figsize=(8,20))\n",
    "\n",
    "conv1 = model.conv1.weight.data.numpy().flatten()\n",
    "conv2 = model.conv2.weight.data.numpy().flatten()\n",
    "fc1 = model.fc1.weight.data.numpy().flatten()\n",
    "fc2 = model.fc2.weight.data.numpy().flatten()\n",
    "fc3 = model.fc3.weight.data.numpy().flatten()\n",
    "\n",
    "ax[0].hist(conv1,len(conv1)); ax[0].set_title('conv1')\n",
    "ax[1].hist(conv2,len(conv2)//10); ax[1].set_title('conv2')\n",
    "ax[2].hist(fc1,len(fc1)//20); ax[2].set_title('fc1')\n",
    "ax[3].hist(fc2,len(fc2)//20); ax[3].set_title('fc2')\n",
    "ax[4].hist(fc3,len(fc3)//10); ax[4].set_title('fc3')\n",
    "plt.show();"
   ]
  },
  {
   "cell_type": "markdown",
   "metadata": {},
   "source": [
    "- **Subtask 2: Implement a module to clip all the weights that have a magntude less than a threshold (say $\\alpha$) to zero.**"
   ]
  },
  {
   "cell_type": "code",
   "execution_count": 14,
   "metadata": {},
   "outputs": [
    {
     "name": "stdout",
     "output_type": "stream",
     "text": [
      "Elements == 0 before clipping: 0%\n",
      "Elements == 0 after clipping: 63.2%\n"
     ]
    }
   ],
   "source": [
    "#TODO: DONE\n",
    "\n",
    "def weight_clipping(weight, alpha): #@save\n",
    "    \"\"\"Clip weights less than alpha to zero\"\"\"\n",
    "    clipped = torch.where(torch.abs(weight) >= alpha, weight, torch.tensor(0, dtype=weight.dtype))\n",
    "    return clipped\n",
    "\n",
    "clipped = weight_clipping(fc1_SAVE, 0.1)\n",
    "sparsity = len((clipped == 0).nonzero())/torch.numel(clipped)\n",
    "print(f'Elements == 0 before clipping: {len((fc1_SAVE == 0).nonzero())*100}%')\n",
    "print(f'Elements == 0 after clipping: {round(sparsity*100,2)}%')\n",
    "#model.fc1.weight.dtype"
   ]
  },
  {
   "cell_type": "code",
   "execution_count": 15,
   "metadata": {
    "scrolled": false
   },
   "outputs": [
    {
     "data": {
      "image/png": "[encoded data removed]",
      "text/plain": [
       "<Figure size 576x576 with 2 Axes>"
      ]
     },
     "metadata": {
      "needs_background": "light"
     },
     "output_type": "display_data"
    }
   ],
   "source": [
    "fig, ax = plt.subplots(2,1,figsize=(8,8))\n",
    "ax[0].hist(fc1_SAVE.data.numpy().flatten(),len(fc1_SAVE))\n",
    "ax[0].grid(True)\n",
    "ax[1].hist(clipped.data.numpy().flatten(),len(clipped))\n",
    "ax[1].grid(True)\n",
    "plt.show();"
   ]
  },
  {
   "cell_type": "markdown",
   "metadata": {},
   "source": [
    "- **Subtask 3: Run inference for different levels of sparsity by varying  𝛼 , and plot a graph of sparsity vs. test accuracy.**"
   ]
  },
  {
   "cell_type": "code",
   "execution_count": 16,
   "metadata": {
    "scrolled": false
   },
   "outputs": [
    {
     "name": "stdout",
     "output_type": "stream",
     "text": [
      "alpha = 0.05, acc = 0.88\n",
      "alpha = 0.1, acc = 0.88\n",
      "alpha = 0.15, acc = 0.87\n",
      "alpha = 0.2, acc = 0.87\n",
      "alpha = 0.25, acc = 0.84\n",
      "alpha = 0.3, acc = 0.72\n"
     ]
    },
    {
     "data": {
      "image/png": "[encoded data removed]",
      "text/plain": [
       "<Figure size 432x432 with 1 Axes>"
      ]
     },
     "metadata": {
      "needs_background": "light"
     },
     "output_type": "display_data"
    }
   ],
   "source": [
    "#TODO: \n",
    "fig, ax = plt.subplots(1,figsize=(6,6))\n",
    "\n",
    "# Define Ranks\n",
    "r1_arr = [10,20,30,40,50]\n",
    "r2_arr = [10,20,30,40,50]\n",
    "\n",
    "# Define alphas\n",
    "alphas = np.linspace(0.05, 0.3, 6)\n",
    "\n",
    "for i, alpha in enumerate(alphas):\n",
    "    num_labels = 0\n",
    "    num_correct = 0\n",
    "    num_sparcity = 0\n",
    "    total_elements = 0\n",
    "    acc = 0\n",
    "    sparcity = 0\n",
    "\n",
    "    # Assign new weights\n",
    "    model.conv1.weight.data = weight_clipping(model.conv1.weight.data, alpha)\n",
    "    model.conv2.weight.data = weight_clipping(model.conv2.weight.data, alpha)\n",
    "    model.fc1.weight.data = weight_clipping(model.fc1.weight.data, alpha)\n",
    "    model.fc2.weight.data = weight_clipping(model.fc2.weight.data, alpha)\n",
    "    model.fc3.weight.data = weight_clipping(model.fc3.weight.data, alpha)\n",
    "\n",
    "    for X, y in train:\n",
    "        # Calculate Accuracy\n",
    "        outputs = model(X)\n",
    "        outputs = outputs.detach().numpy()\n",
    "        outputs = np.argmax(outputs, axis=1)\n",
    "        y = y.detach().numpy()\n",
    "        num_correct += np.sum(outputs == y)\n",
    "        num_labels += y.shape[0]\n",
    "\n",
    "    # Calculate Sparcity %\n",
    "    num_sparcity += len((model.conv1.weight.data == 0).nonzero())\n",
    "    num_sparcity += len((model.conv2.weight.data == 0).nonzero())\n",
    "    num_sparcity += len((model.fc1.weight.data == 0).nonzero())\n",
    "    num_sparcity += len((model.fc2.weight.data == 0).nonzero())\n",
    "    num_sparcity += len((model.fc3.weight.data == 0).nonzero())\n",
    "    total_elements += torch.numel(model.conv1.weight.data)\n",
    "    total_elements += torch.numel(model.conv2.weight.data)\n",
    "    total_elements += torch.numel(model.fc1.weight.data)\n",
    "    total_elements += torch.numel(model.fc2.weight.data)\n",
    "    total_elements += torch.numel(model.fc3.weight.data)\n",
    "        \n",
    "    # Plot\n",
    "    acc = num_correct / num_labels\n",
    "    sparcity = num_sparcity / total_elements\n",
    "    print(f'alpha = {round(alpha,3)}, acc = {round(acc,2)}')\n",
    "    ax.scatter(sparcity, acc, label=f'alpha = {round(alpha,3)}')\n",
    "\n",
    "ax.set_title('Sparcity vs. Accuracy')\n",
    "ax.set_ylabel('Accuracy')\n",
    "ax.set_xlabel('Sparcity')\n",
    "ax.grid(True)\n",
    "ax.legend()\n",
    "plt.show();"
   ]
  },
  {
   "cell_type": "markdown",
   "metadata": {},
   "source": [
    "# 3. Improved RNN (35 points)"
   ]
  },
  {
   "cell_type": "markdown",
   "metadata": {},
   "source": [
    "- **Subtask 3: Run inference for different levels of sparsity by varying $\\alpha$, and plot a graph of sparsity vs. test accuracy.** "
   ]
  },
  {
   "cell_type": "markdown",
   "metadata": {},
   "source": [
    "In this section we will implement a different type of RNN, one with weighted residual connections, and try to analyze it's usefulness. \n",
    "\n",
    "Let $X = [x 1 , . . . , x^T ]$ be the input data where $x_t \\in R^D$ denotes the t-th step feature vector. Then,\n",
    "the goal of multi-class RNNs is to learn a function F : R D×T → {1, . . . , L} that predicts one of L\n",
    "classes for the given data point X. Standard RNN architecture has a provision to produce an output\n",
    "at every time step, but we focus on the setting where each data point is associated with a single label\n",
    "that is predicted at the end of the time horizon T . Standard RNN maintains a vector of hidden state\n",
    "$h_t ∈ R^D̂$ which captures temporal dynamics in the input data, i.e., $$h_t = f(W \\, x_t + U \\, h_{t-1} + b)$$\n",
    "\n",
    "Learning U, W in the above architecture is difficult as the gradient\n",
    "can have exponentially large (in T) condition number, which leads to problems like exploding or vanishing gradients. Instead, ImprovedRNN will use a simple weighted residual connection to perform updates of the hidden state $h_t$ as follows: $$ h̃_t = f(Wx_t + Uh_{t−1} + b)$$  $$h_t = \\alpha h̃_t + βh_{t−1} $$\n",
    "\n",
    "where 0 ≤ α, β ≤ 1 are trainable scalar weights.\n",
    "\n",
    "\n",
    "- **(20 points) Subtask 1: Implement the `ImprovedRNNCell` by extending the RNNCell defined in `eep590_utils.py`, which extends `nn.Module` in pytorch.** "
   ]
  },
  {
   "cell_type": "code",
   "execution_count": 17,
   "metadata": {},
   "outputs": [],
   "source": [
    "#TODO: DONE\n",
    "\n",
    "class ImprovedRNNCell(RNNCell):\n",
    "    '''\n",
    "    ImprovedRNN Cell with both Full Rank and Low Rank Formulations\n",
    "    Has multiple activation functions for the gates\n",
    "    hidden_size = # hidden units\n",
    "    update_nonlinearity = nonlinearity for final rnn update\n",
    "    can be chosen from [tanh, sigmoid, relu, quantTanh, quantSigm]\n",
    "    wRank = rank of W matrix (creates two matrices if not None)\n",
    "    uRank = rank of U matrix (creates two matrices if not None)\n",
    "    wSparsity = intended sparsity of W matrix(ces)\n",
    "    uSparsity = intended sparsity of U matrix(ces)\n",
    "    The cell will not automatically sparsify. The user must invoke .sparsify() to hard threshold.\n",
    "    alphaInit = init for alpha, the update scalar\n",
    "    betaInit = init for beta, the weight for previous state\n",
    "    Basic architecture is like:\n",
    "    h_t^ = update_nl(Wx_t + Uh_{t-1} + B_h)\n",
    "    h_t = sigmoid(beta)*h_{t-1} + sigmoid(alpha)*h_t^\n",
    "    W and U can further parameterised into low rank version by\n",
    "    W = matmul(W_1, W_2) and U = matmul(U_1, U_2)\n",
    "    '''\n",
    "\n",
    "    def __init__(self, input_size, hidden_size,\n",
    "                 update_nonlinearity=\"tanh\", wRank=None, uRank=None,\n",
    "                 wSparsity=1.0, uSparsity=1.0, alphaInit=-3.0, betaInit=3.0,\n",
    "                 name=\"ImprovedRNN\"):\n",
    "        super(ImprovedRNNCell, self).__init__(input_size, hidden_size,\n",
    "                                           None, update_nonlinearity,\n",
    "                                           1, 1, 1, wRank, uRank, wSparsity,\n",
    "                                           uSparsity)\n",
    "        # TODO: DONE\n",
    "        # Initialize all the required variables\n",
    "        # https://pytorch.org/docs/stable/_modules/torch/nn/modules/rnn.html\n",
    "        self.alphaInit = alphaInit\n",
    "        self.betaInit = betaInit\n",
    "        self.W = torch.empty(0)\n",
    "        self.W1 = torch.empty(0)\n",
    "        self.W2 = torch.empty(0)\n",
    "        self.U = torch.empty(0)\n",
    "        self.U1 = torch.empty(0)\n",
    "        self.U2 = torch.empty(0)\n",
    "        self.alpha = alphaInit * torch.ones([1, 1])\n",
    "        self.beta = betaInit * torch.ones([1, 1])\n",
    "        self.B = torch.ones([1, hidden_size])\n",
    "        \n",
    "        if wRank is not None:\n",
    "            self.W1 = torch.randn([input_size, wRank])\n",
    "            self.W2 = torch.randn([wRank, hidden_size])\n",
    "        else:\n",
    "            self.W = torch.randn([input_size, hidden_size])\n",
    "            \n",
    "        if uRank is not None:\n",
    "            self.U1 = torch.randn([hidden_size, uRank])\n",
    "            self.U2 = torch.randn([uRank, hidden_size])\n",
    "        else:\n",
    "            self.U = torch.randn([hidden_size, hidden_size])\n",
    "        \n",
    "    @property\n",
    "    def name(self):\n",
    "        return self._name\n",
    "\n",
    "    @property\n",
    "    def cellType(self):\n",
    "        return \"ImprovedRNN\"\n",
    "\n",
    "    def forward(self, input, state):\n",
    "        # TODO: DONE\n",
    "        # Implement the forward pass to compute the new_state\n",
    "        B_h = self.B\n",
    "        h_t_1 = state\n",
    "        \n",
    "        Wx_t = torch.empty(0)\n",
    "        if self.wRank() is not None:\n",
    "            Wx_t = torch.matmul( torch.matmul(input,self.W1), self.W2 )\n",
    "        else:\n",
    "            Wx_t = torch.matmul( input, self.W )\n",
    "            \n",
    "        Uh_t_1 = torch.empty(0)\n",
    "        if self.uRank() is not None:\n",
    "            Uh_t_1 = torch.matmul( torch.matmul(state,self.U1), self.U2 )\n",
    "        else: \n",
    "            Uh_t_1 = torch.malmul( state, self.U )\n",
    "            \n",
    "        # h_t^ = update_nl(Wx_t + Uh_{t-1} + B_h)\n",
    "        h_t_hat = gen_nonlinearity( Wx_t + Uh_t_1 + B_h, self.update_nonlinearity())\n",
    "        \n",
    "        # h_t = sigmoid(beta)*h_{t-1} + sigmoid(alpha)*h_t^\n",
    "        h_t = torch.sigmoid(self.beta)*h_t_1 + torch.sigmoid(self.alpha)*h_t_hat\n",
    "        \n",
    "        new_state = h_t\n",
    "        \n",
    "        return new_state"
   ]
  },
  {
   "cell_type": "code",
   "execution_count": 22,
   "metadata": {},
   "outputs": [],
   "source": [
    "model2 = ImprovedRNNCell(20,20)"
   ]
  },
  {
   "cell_type": "markdown",
   "metadata": {},
   "source": [
    "- **(10 points) Subtask 2: Explain how Improved RNN resolves some of the problems in traditional RNNs from an optimization perspective.** Assume that the label decision function is one dimensional and is given by $f (X) = v^⊤ h_T$ . Let $L(X, y; θ) = L(f (X), y; θ)$ be the logistic loss function for the given labeled data point $(X, y)$ and with parameters $θ = (W, U, v)$. Then, check the gradients $\\frac{\\partial L}{\\partial W}$ and $\\frac{\\partial L}{\\partial U}$. A critical term in the expression of the gradients that determines whether it explodes/vanishes will be: $$M(U) = \\prod_{k=t}^{T-1} (αU^T D_{k+1} + βI)$$ where $D_k = diag(σ′ (Wx_k + Uh_{k−1} + b))$ is the Jacobian matrix of the pointwise nonlinearity. **Hint: Analyze the range of possible values for the condition number $\\kappa$ of the matrix $M(U)$**. \n"
   ]
  },
  {
   "cell_type": "markdown",
   "metadata": {},
   "source": [
    "#TODO: DONE\n",
    "\n",
    "In normal RNN, the possible range for the condition number is a function of the exponential of T. Thus the gradient can explode or vanish in normal RNN. However, Improved RNN bounds the gradient expression to a small term such that it is much easier to converge."
   ]
  },
  {
   "cell_type": "markdown",
   "metadata": {},
   "source": [
    "- **(5 points) Subtask 3: Explain why this result is useful in the context of embedded real-time applications. Comment on representation power, memory-usage, and computation.** "
   ]
  },
  {
   "cell_type": "markdown",
   "metadata": {},
   "source": [
    "#TODO: DONE\n",
    "\n",
    "The training process of a RNN with weighted residual connections converges much more easily even with large number of layers. The number of weights that are needed to be stored are much smaller , therefore the number of computations and power is much less. "
   ]
  },
  {
   "cell_type": "markdown",
   "metadata": {},
   "source": [
    "# 4. References & Misc. (15 points) \n",
    "\n",
    "**(a.) How many hours (approx) did you spend on this assignment totally? Document and explain your journey, including the issues/challenges you faced (both technical and non-technical).**"
   ]
  },
  {
   "cell_type": "markdown",
   "metadata": {},
   "source": [
    "#TODO: DONE\n",
    "\n",
    "This was another challenging assignment. I spent 3 days, 12 hours each day to complete this. I'm slowly gaining confidence in building these models, however it would be very helpful to see more examples. Also, I really value blogs that show the math, then a diagram, and then pseudo code. "
   ]
  },
  {
   "cell_type": "markdown",
   "metadata": {},
   "source": [
    "**(b.) Cite all the resources and references you consulted to complete this assignment.** "
   ]
  },
  {
   "cell_type": "markdown",
   "metadata": {},
   "source": [
    "#TODO: DONE\n",
    "\n",
    "https://www.analyticsvidhya.com/blog/2021/03/the-architecture-of-lenet-5/\n",
    "\n",
    "https://towardsdatascience.com/understanding-and-implementing-lenet-5-cnn-architecture-deep-learning-a2d531ebc342\n",
    "\n",
    "https://drive.google.com/file/d/16DdwF4KIGi47ky7Q_B-4aApvMYW2evJZ/view\n",
    "\n",
    "https://openreview.net/attachment?id=BJlaG0VFDH&name=original_pdf\n",
    "\n",
    "https://web.stanford.edu/class/cs168/l/l9.pdf\n",
    "\n",
    "https://stanford.edu/~shervine/teaching/cs-230/cheatsheet-recurrent-neural-networks\n",
    "\n",
    "https://www.geeksforgeeks.org/image-reconstruction-using-singular-value-decomposition-svd-in-python/\n",
    "\n",
    "https://jramapuram.github.io/ramblings/rnn-backrpop/\n",
    "\n",
    "https://cs224d.stanford.edu/lecture_notes/notes4.pdf"
   ]
  },
  {
   "cell_type": "code",
   "execution_count": null,
   "metadata": {},
   "outputs": [],
   "source": []
  }
 ],
 "metadata": {
  "interpreter": {
   "hash": "31f2aee4e71d21fbe5cf8b01ff0e069b9275f58929596ceb00d14d90e3e16cd6"
  },
  "kernelspec": {
   "display_name": "Python 3.10.4 64-bit",
   "name": "python3"
  },
  "language_info": {
   "name": "python",
   "version": ""
  },
  "varInspector": {
   "cols": {
    "lenName": 16,
    "lenType": 16,
    "lenVar": 40
   },
   "kernels_config": {
    "python": {
     "delete_cmd_postfix": "",
     "delete_cmd_prefix": "del ",
     "library": "var_list.py",
     "varRefreshCmd": "print(var_dic_list())"
    },
    "r": {
     "delete_cmd_postfix": ") ",
     "delete_cmd_prefix": "rm(",
     "library": "var_list.r",
     "varRefreshCmd": "cat(var_dic_list()) "
    }
   },
   "types_to_exclude": [
    "module",
    "function",
    "builtin_function_or_method",
    "instance",
    "_Feature"
   ],
   "window_display": false
  }
 },
 "nbformat": 4,
 "nbformat_minor": 4
}